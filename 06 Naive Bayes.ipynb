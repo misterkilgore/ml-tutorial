{
  "cells": [
    {
      "metadata": {},
      "cell_type": "markdown",
      "source": "# Naive Bayes (the easy way)"
    },
    {
      "metadata": {},
      "cell_type": "markdown",
      "source": "We'll cheat by using sklearn.naive_bayes to train a spam classifier! Most of the code is just loading our training data into a pandas DataFrame that we can play with:"
    },
    {
      "metadata": {
        "trusted": false
      },
      "cell_type": "code",
      "source": "import os\nimport io\nimport numpy\nfrom pandas import DataFrame\nfrom sklearn.feature_extraction.text import CountVectorizer\nfrom sklearn.naive_bayes import MultinomialNB\n\ndef readFiles(path):\n    for root, dirnames, filenames in os.walk(path):\n        for filename in filenames:\n            path = os.path.join(root, filename)\n\n            inBody = False\n            lines = []\n            f = io.open(path, 'r', encoding='latin1')\n            for line in f:\n                if inBody:\n                    lines.append(line)\n                elif line == '\\n':\n                    inBody = True\n            f.close()\n            message = '\\n'.join(lines)\n            yield path, message\n\n\ndef dataFrameFromDirectory(path, classification):\n    rows = []\n    index = []\n    for filename, message in readFiles(path):\n        rows.append({'message': message, 'class': classification})\n        index.append(filename)\n\n    return DataFrame(rows, index=index)\n\ndata = DataFrame({'message': [], 'class': []})\n\ndata = data.append(dataFrameFromDirectory('emails/spam', 'spam'))\ndata = data.append(dataFrameFromDirectory('emails/ham', 'ham'))\n",
      "execution_count": 1,
      "outputs": [
        {
          "name": "stderr",
          "output_type": "stream",
          "text": "E:\\Anaconda3\\lib\\site-packages\\pandas\\core\\frame.py:6692: FutureWarning: Sorting because non-concatenation axis is not aligned. A future version\nof pandas will change to not sort by default.\n\nTo accept the future behavior, pass 'sort=False'.\n\nTo retain the current behavior and silence the warning, pass 'sort=True'.\n\n  sort=sort)\n"
        }
      ]
    },
    {
      "metadata": {},
      "cell_type": "markdown",
      "source": "Let's have a look at that DataFrame:"
    },
    {
      "metadata": {
        "trusted": false
      },
      "cell_type": "code",
      "source": "data.head()",
      "execution_count": 2,
      "outputs": [
        {
          "data": {
            "text/html": "<div>\n<style scoped>\n    .dataframe tbody tr th:only-of-type {\n        vertical-align: middle;\n    }\n\n    .dataframe tbody tr th {\n        vertical-align: top;\n    }\n\n    .dataframe thead th {\n        text-align: right;\n    }\n</style>\n<table border=\"1\" class=\"dataframe\">\n  <thead>\n    <tr style=\"text-align: right;\">\n      <th></th>\n      <th>class</th>\n      <th>message</th>\n    </tr>\n  </thead>\n  <tbody>\n    <tr>\n      <th>emails/spam\\00001.7848dde101aa985090474a91ec93fcf0</th>\n      <td>spam</td>\n      <td>&lt;!DOCTYPE HTML PUBLIC \"-//W3C//DTD HTML 4.0 Tr...</td>\n    </tr>\n    <tr>\n      <th>emails/spam\\00002.d94f1b97e48ed3b553b3508d116e6a09</th>\n      <td>spam</td>\n      <td>1) Fight The Risk of Cancer!\\n\\nhttp://www.adc...</td>\n    </tr>\n    <tr>\n      <th>emails/spam\\00003.2ee33bc6eacdb11f38d052c44819ba6c</th>\n      <td>spam</td>\n      <td>1) Fight The Risk of Cancer!\\n\\nhttp://www.adc...</td>\n    </tr>\n    <tr>\n      <th>emails/spam\\00004.eac8de8d759b7e74154f142194282724</th>\n      <td>spam</td>\n      <td>##############################################...</td>\n    </tr>\n    <tr>\n      <th>emails/spam\\00005.57696a39d7d84318ce497886896bf90d</th>\n      <td>spam</td>\n      <td>I thought you might like these:\\n\\n1) Slim Dow...</td>\n    </tr>\n  </tbody>\n</table>\n</div>",
            "text/plain": "                                                   class  \\\nemails/spam\\00001.7848dde101aa985090474a91ec93fcf0  spam   \nemails/spam\\00002.d94f1b97e48ed3b553b3508d116e6a09  spam   \nemails/spam\\00003.2ee33bc6eacdb11f38d052c44819ba6c  spam   \nemails/spam\\00004.eac8de8d759b7e74154f142194282724  spam   \nemails/spam\\00005.57696a39d7d84318ce497886896bf90d  spam   \n\n                                                                                              message  \nemails/spam\\00001.7848dde101aa985090474a91ec93fcf0  <!DOCTYPE HTML PUBLIC \"-//W3C//DTD HTML 4.0 Tr...  \nemails/spam\\00002.d94f1b97e48ed3b553b3508d116e6a09  1) Fight The Risk of Cancer!\\n\\nhttp://www.adc...  \nemails/spam\\00003.2ee33bc6eacdb11f38d052c44819ba6c  1) Fight The Risk of Cancer!\\n\\nhttp://www.adc...  \nemails/spam\\00004.eac8de8d759b7e74154f142194282724  ##############################################...  \nemails/spam\\00005.57696a39d7d84318ce497886896bf90d  I thought you might like these:\\n\\n1) Slim Dow...  "
          },
          "execution_count": 2,
          "metadata": {},
          "output_type": "execute_result"
        }
      ]
    },
    {
      "metadata": {},
      "cell_type": "markdown",
      "source": "Now we will use a CountVectorizer to split up each message into its list of words, and throw that into a MultinomialNB classifier. Call fit() and we've got a trained spam filter ready to go! It's just that easy."
    },
    {
      "metadata": {
        "trusted": false
      },
      "cell_type": "code",
      "source": "vectorizer = CountVectorizer()\ncounts = vectorizer.fit_transform(data['message'].values)\n\nclassifier = MultinomialNB()\ntargets = data['class'].values\nclassifier.fit(counts, targets)",
      "execution_count": 3,
      "outputs": [
        {
          "data": {
            "text/plain": "MultinomialNB(alpha=1.0, class_prior=None, fit_prior=True)"
          },
          "execution_count": 3,
          "metadata": {},
          "output_type": "execute_result"
        }
      ]
    },
    {
      "metadata": {},
      "cell_type": "markdown",
      "source": "Let's try it out:"
    },
    {
      "metadata": {
        "trusted": false
      },
      "cell_type": "code",
      "source": "examples = ['Free Viagra now!!!', \"Hi Bob, how about a game of golf tomorrow?\"]\nexample_counts = vectorizer.transform(examples)\npredictions = classifier.predict(example_counts)\npredictions",
      "execution_count": 4,
      "outputs": [
        {
          "data": {
            "text/plain": "array(['spam', 'ham'], dtype='<U4')"
          },
          "execution_count": 4,
          "metadata": {},
          "output_type": "execute_result"
        }
      ]
    },
    {
      "metadata": {},
      "cell_type": "markdown",
      "source": "# FACEBOOK SCRAPER"
    },
    {
      "metadata": {
        "trusted": true
      },
      "cell_type": "code",
      "source": "!conda install facebook-scraper -y\n\nfrom facebook_scraper import get_posts\n\nfor post in get_posts('nintendo', pages=1):\n    print(post['text'][:50])",
      "execution_count": 5,
      "outputs": [
        {
          "output_type": "stream",
          "text": "Fetching package metadata .............\n\nPackageNotFoundError: Packages missing in current channels:\n            \n  - facebook-scraper\n\nWe have searched for the packages in the following channels:\n            \n  - https://repo.continuum.io/pkgs/main/linux-64\n  - https://repo.continuum.io/pkgs/main/noarch\n  - https://repo.continuum.io/pkgs/free/linux-64\n  - https://repo.continuum.io/pkgs/free/noarch\n  - https://repo.continuum.io/pkgs/pro/linux-64\n  - https://repo.continuum.io/pkgs/pro/noarch\n  - https://conda.anaconda.org/conda-forge/linux-64\n  - https://conda.anaconda.org/conda-forge/noarch\n  - https://conda.anaconda.org/pytorch/linux-64\n  - https://conda.anaconda.org/pytorch/noarch\n            \n\n",
          "name": "stdout"
        },
        {
          "output_type": "error",
          "ename": "ImportError",
          "evalue": "No module named 'facebook_scraper'",
          "traceback": [
            "\u001b[0;31m---------------------------------------------------------------------------\u001b[0m",
            "\u001b[0;31mImportError\u001b[0m                               Traceback (most recent call last)",
            "\u001b[0;32m<ipython-input-5-34d23743e218>\u001b[0m in \u001b[0;36m<module>\u001b[0;34m()\u001b[0m\n\u001b[1;32m      1\u001b[0m \u001b[0mget_ipython\u001b[0m\u001b[0;34m(\u001b[0m\u001b[0;34m)\u001b[0m\u001b[0;34m.\u001b[0m\u001b[0msystem\u001b[0m\u001b[0;34m(\u001b[0m\u001b[0;34m'conda install facebook-scraper -y'\u001b[0m\u001b[0;34m)\u001b[0m\u001b[0;34m\u001b[0m\u001b[0m\n\u001b[1;32m      2\u001b[0m \u001b[0;34m\u001b[0m\u001b[0m\n\u001b[0;32m----> 3\u001b[0;31m \u001b[0;32mfrom\u001b[0m \u001b[0mfacebook_scraper\u001b[0m \u001b[0;32mimport\u001b[0m \u001b[0mget_posts\u001b[0m\u001b[0;34m\u001b[0m\u001b[0m\n\u001b[0m\u001b[1;32m      4\u001b[0m \u001b[0;34m\u001b[0m\u001b[0m\n\u001b[1;32m      5\u001b[0m \u001b[0;32mfor\u001b[0m \u001b[0mpost\u001b[0m \u001b[0;32min\u001b[0m \u001b[0mget_posts\u001b[0m\u001b[0;34m(\u001b[0m\u001b[0;34m'nintendo'\u001b[0m\u001b[0;34m,\u001b[0m \u001b[0mpages\u001b[0m\u001b[0;34m=\u001b[0m\u001b[0;36m1\u001b[0m\u001b[0;34m)\u001b[0m\u001b[0;34m:\u001b[0m\u001b[0;34m\u001b[0m\u001b[0m\n",
            "\u001b[0;31mImportError\u001b[0m: No module named 'facebook_scraper'"
          ]
        }
      ]
    },
    {
      "metadata": {
        "trusted": true
      },
      "cell_type": "code",
      "source": "",
      "execution_count": null,
      "outputs": []
    }
  ],
  "metadata": {
    "kernelspec": {
      "name": "python3",
      "display_name": "Python 3",
      "language": "python"
    },
    "language_info": {
      "mimetype": "text/x-python",
      "nbconvert_exporter": "python",
      "name": "python",
      "file_extension": ".py",
      "version": "3.5.4",
      "pygments_lexer": "ipython3",
      "codemirror_mode": {
        "version": 3,
        "name": "ipython"
      }
    }
  },
  "nbformat": 4,
  "nbformat_minor": 1
}